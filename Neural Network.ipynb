{
 "cells": [
  {
   "cell_type": "markdown",
   "metadata": {},
   "source": [
    "## Import Libraries \n",
    "---\n",
    "\n",
    "This is where the libraries are imported. Also where I specify which features are categorical and needs scaling."
   ]
  },
  {
   "cell_type": "code",
   "execution_count": 6,
   "metadata": {},
   "outputs": [
    {
     "name": "stderr",
     "output_type": "stream",
     "text": [
      "Using TensorFlow backend.\n",
      "/anaconda3/lib/python3.6/importlib/_bootstrap.py:219: RuntimeWarning: compiletime version 3.5 of module 'tensorflow.python.framework.fast_tensor_util' does not match runtime version 3.6\n",
      "  return f(*args, **kwds)\n"
     ]
    }
   ],
   "source": [
    "import pandas as pd\n",
    "import numpy as np\n",
    "from sklearn.utils import shuffle\n",
    "from sklearn.model_selection import train_test_split\n",
    "from sklearn.preprocessing import LabelEncoder\n",
    "from sklearn.metrics import log_loss\n",
    "from sklearn.preprocessing import MinMaxScaler\n",
    "from collections import defaultdict\n",
    "from keras.models import Sequential\n",
    "from keras.layers import Input, Dense, Dropout\n",
    "from keras.optimizers import Adam\n",
    "from sklearn.metrics import log_loss\n",
    "import matplotlib.pyplot as  plt\n",
    "from sklearn import tree                                                        \n",
    "\n",
    "MENS = 'mens'\n",
    "WOMENS = 'womens'\n",
    "TEST = 'test'\n",
    "TRAIN = 'train'\n",
    "\n",
    "# Columns in Data With Categorical Values- Must LabelEncode them\n",
    "categorical_cols = ['hitpoint', 'outside.sideline', 'outside.baseline', 'same.side', \n",
    "                    'previous.hitpoint', 'server.is.impact.player', 'outcome']\n",
    "\n",
    "# Columns in the Data That Should Be Scaled\n",
    "scaled_data = ['serve', 'rally', 'speed', 'net.clearance', 'distance.from.sideline', 'depth', \n",
    "               'player.distance.travelled', 'player.impact.depth', 'previous.net.clearance',\n",
    "               'player.impact.distance.from.center', 'player.depth', 'opponent.depth', \n",
    "               'player.distance.from.center', 'previous.speed',  'previous.depth', \n",
    "               'previous.distance.from.sideline', 'previous.time.to.net',\n",
    "               'opponent.distance.from.center', ]"
   ]
  },
  {
   "cell_type": "markdown",
   "metadata": {},
   "source": [
    "## Import Data\n",
    "---\n",
    "Define functions to load data from csv files and preprocess the data (shuffle, drop, encode, and scale)."
   ]
  },
  {
   "cell_type": "code",
   "execution_count": 7,
   "metadata": {},
   "outputs": [],
   "source": [
    "# Load Data and Return pandas dataframe\n",
    "def load_tennis_data(gender, train='train'):\n",
    "    assert gender == 'mens' or gender == 'womens'\n",
    "    assert train == 'train' or train == 'test'\n",
    "    csv_path = 'tennis_data/' + gender + '_' + train + '_file.csv'\n",
    "    return pd.read_csv(csv_path)\n",
    "\n",
    "# Return Shuffled Training Data- Reorder With ID as first column\n",
    "def preprocess(data): \n",
    "    data = shuffle(data, random_state=42)\n",
    "    cols = data.columns.tolist()\n",
    "    new_cols = cols[-4:-3] + cols[0:-4]  + cols[-3:]\n",
    "    data = data[new_cols]\n",
    "    return data\n",
    "\n",
    "# Return ID Column\n",
    "def get_id(data):\n",
    "    return data['id']\n",
    "\n",
    "# Return df with useless features dropped- ID, Gender, Train\n",
    "def get_feature_cols(data):\n",
    "    data.drop('id', 1, inplace=True)   \n",
    "    data.drop('gender', 1, inplace=True)\n",
    "    data.drop('train', 1, inplace=True)\n",
    "    return data\n",
    "\n",
    "# Encode Categorical Data\n",
    "def encode_data(data):\n",
    "    # Retain All LabelEncoder as a dictionary\n",
    "    d = defaultdict(LabelEncoder)\n",
    "\n",
    "    # Encode all the columns\n",
    "    data[categorical_cols] = data[categorical_cols].apply(lambda x: d[x.name].fit_transform(x))\n",
    "\n",
    "    return data\n",
    "\n",
    "# Scale Data\n",
    "def scale_data(data):\n",
    "    scaler = MinMaxScaler()\n",
    "    data[scaled_data] = scaler.fit_transform(data[scaled_data])\n",
    "    return data"
   ]
  },
  {
   "cell_type": "markdown",
   "metadata": {},
   "source": [
    "## Split Input Data Into Train and Validation Sets\n",
    "---\n",
    "Define a function to take in the input data and split into training and validation sets. Mainly uses sklearn's train_test_split function."
   ]
  },
  {
   "cell_type": "code",
   "execution_count": 8,
   "metadata": {},
   "outputs": [],
   "source": [
    "# Return Train X, Train Y, Val X, Val Y, ID Columns\n",
    "def split_train_validation_data(gender, test_size=0.2, random_state=None):\n",
    "    train_data = load_tennis_data(gender, TRAIN)\n",
    "    train_data= preprocess(train_data)\n",
    "    train_id = get_id(train_data)\n",
    "    train_data = get_feature_cols(train_data)\n",
    "    train_data = encode_data(train_data)\n",
    "    train_data = scale_data(train_data)\n",
    "    # mens_train_data.head()\n",
    "\n",
    "    # Split into training and validation sets\n",
    "    train_mens, val_mens = train_test_split(train_data, test_size=test_size, random_state=random_state)\n",
    "\n",
    "    # Split data into input and outputs\n",
    "    X_train = train_mens.loc[:, train_mens.columns != 'outcome']\n",
    "    Y_train = train_mens['outcome']\n",
    "    X_val = val_mens.loc[:, val_mens.columns != 'outcome']\n",
    "    Y_val = val_mens['outcome']\n",
    "    \n",
    "    # Reshape Data To Put Into NN\n",
    "    X_train_np = X_train.values.reshape((-1, 24))\n",
    "    Y_train_np = Y_train.reshape((-1,1))\n",
    "    X_val_np = X_val.values.reshape((-1, 24))\n",
    "    Y_val_np = Y_val.reshape((-1,1))\n",
    "    return X_train_np, Y_train_np, X_val_np, Y_val_np, train_id"
   ]
  },
  {
   "cell_type": "markdown",
   "metadata": {},
   "source": [
    "## Initialize Our Neural Network Model\n",
    "---\n",
    "Define a function to set up the neural network model. The model will have 3 hidden layers and use Adam as its' optimizer. The loss metric will be sparse_categorical_crossentropy since there are more than 2 categories to classify/predict."
   ]
  },
  {
   "cell_type": "code",
   "execution_count": 9,
   "metadata": {},
   "outputs": [],
   "source": [
    "# Create Model\n",
    "def create_model():\n",
    "    model = Sequential()\n",
    "    model.add(Dense(15, input_dim=24, activation='relu', kernel_initializer='random_uniform'))\n",
    "    model.add(Dropout(0.4))\n",
    "    model.add(Dense(15, input_dim=24, activation='relu', kernel_initializer='lecun_uniform'))\n",
    "    adam = Adam(lr=0.001, beta_1=0.9, beta_2=0.999, epsilon=1e-08, decay=0.0)\n",
    "    model.add(Dense(3, activation='softmax', kernel_initializer='lecun_uniform'))\n",
    "    model.compile(loss='sparse_categorical_crossentropy', optimizer=adam, metrics=['accuracy'])\n",
    "    return model"
   ]
  },
  {
   "cell_type": "markdown",
   "metadata": {},
   "source": [
    "## Train, Evaluate, and Predict\n",
    "---\n",
    "Define functions to train and evaluate the model. The evaluating part involves graphing the training and validation error.\n",
    "\n",
    "Also define a function to predict using the trained model."
   ]
  },
  {
   "cell_type": "code",
   "execution_count": 10,
   "metadata": {},
   "outputs": [],
   "source": [
    "# Build and Train Model\n",
    "def train_and_evaluate_model(model, x_train, y_train, xval, yval, epochs, batch_size):\n",
    "    history = model.fit(x_train, y_train, epochs=epochs, batch_size=batch_size, \n",
    "                         validation_data=(xval, yval))\n",
    "    plt.plot(history.history['loss'])\n",
    "    plt.plot(history.history['val_loss'])  \n",
    "    plt.title('model loss')\n",
    "    plt.ylabel('loss')\n",
    "    plt.xlabel('epoch')\n",
    "    plt.legend(['train', 'val'], loc='upper left')\n",
    "    plt.show()\n",
    "    return model\n",
    "\n",
    "# Use model to predict\n",
    "def prediction(model, data):  \n",
    "    return model.predict(data)"
   ]
  },
  {
   "cell_type": "markdown",
   "metadata": {},
   "source": [
    "## Train the Model\n",
    "---\n",
    "Train the model using the predefined functions above. \n",
    "\n",
    "First split the input data into training and validation. \n",
    "\n",
    "Next create the model.\n",
    "\n",
    "Finally, train and evaluate the model. (Only 10 epochs listed here, but you optimally want more)"
   ]
  },
  {
   "cell_type": "code",
   "execution_count": 13,
   "metadata": {},
   "outputs": [
    {
     "name": "stdout",
     "output_type": "stream",
     "text": [
      "Train on 4000 samples, validate on 1000 samples\n",
      "Epoch 1/10\n",
      "4000/4000 [==============================] - 1s 178us/step - loss: 1.0599 - acc: 0.4230 - val_loss: 1.0093 - val_acc: 0.4560\n",
      "Epoch 2/10\n",
      "4000/4000 [==============================] - 0s 93us/step - loss: 0.9893 - acc: 0.4870 - val_loss: 0.8978 - val_acc: 0.5810\n",
      "Epoch 3/10\n",
      "4000/4000 [==============================] - 0s 99us/step - loss: 0.8777 - acc: 0.5978 - val_loss: 0.7667 - val_acc: 0.7280\n",
      "Epoch 4/10\n",
      "4000/4000 [==============================] - 0s 86us/step - loss: 0.7861 - acc: 0.6540 - val_loss: 0.6880 - val_acc: 0.7410\n",
      "Epoch 5/10\n",
      "4000/4000 [==============================] - 0s 99us/step - loss: 0.7363 - acc: 0.6770 - val_loss: 0.6386 - val_acc: 0.7640\n",
      "Epoch 6/10\n",
      "4000/4000 [==============================] - 0s 88us/step - loss: 0.7116 - acc: 0.6953 - val_loss: 0.6265 - val_acc: 0.7630\n",
      "Epoch 7/10\n",
      "4000/4000 [==============================] - 0s 79us/step - loss: 0.6923 - acc: 0.6912 - val_loss: 0.6053 - val_acc: 0.7680\n",
      "Epoch 8/10\n",
      "4000/4000 [==============================] - 0s 108us/step - loss: 0.6963 - acc: 0.6893 - val_loss: 0.5967 - val_acc: 0.7690\n",
      "Epoch 9/10\n",
      "4000/4000 [==============================] - 0s 84us/step - loss: 0.6774 - acc: 0.7065 - val_loss: 0.5840 - val_acc: 0.7700\n",
      "Epoch 10/10\n",
      "4000/4000 [==============================] - 0s 118us/step - loss: 0.6760 - acc: 0.7105 - val_loss: 0.5789 - val_acc: 0.7700\n"
     ]
    },
    {
     "data": {
      "image/png": "[encoded data removed]",
      "text/plain": [
       "<matplotlib.figure.Figure at 0x1a24e45518>"
      ]
     },
     "metadata": {},
     "output_type": "display_data"
    }
   ],
   "source": [
    "# Men's Model\n",
    "X_train_m, Y_train_m, X_val_m, Y_val_m, train_id_m = split_train_validation_data(MENS, 0.2, random_state=42)\n",
    "\n",
    "model_m = create_model()\n",
    "model_m = train_and_evaluate_model(model_m, X_train_m, Y_train_m, X_val_m, Y_val_m, epochs=10, batch_size=32)"
   ]
  },
  {
   "cell_type": "code",
   "execution_count": 14,
   "metadata": {},
   "outputs": [
    {
     "name": "stdout",
     "output_type": "stream",
     "text": [
      "Train on 4000 samples, validate on 1000 samples\n",
      "Epoch 1/10\n",
      "4000/4000 [==============================] - 1s 200us/step - loss: 1.0563 - acc: 0.4780 - val_loss: 0.9877 - val_acc: 0.5050\n",
      "Epoch 2/10\n",
      "4000/4000 [==============================] - 0s 89us/step - loss: 0.9086 - acc: 0.5980 - val_loss: 0.8208 - val_acc: 0.6520\n",
      "Epoch 3/10\n",
      "4000/4000 [==============================] - 0s 102us/step - loss: 0.7783 - acc: 0.6640 - val_loss: 0.7220 - val_acc: 0.6760\n",
      "Epoch 4/10\n",
      "4000/4000 [==============================] - 0s 106us/step - loss: 0.7075 - acc: 0.6975 - val_loss: 0.6742 - val_acc: 0.6850\n",
      "Epoch 5/10\n",
      "4000/4000 [==============================] - 0s 122us/step - loss: 0.6761 - acc: 0.7167 - val_loss: 0.6452 - val_acc: 0.6940\n",
      "Epoch 6/10\n",
      "4000/4000 [==============================] - 0s 107us/step - loss: 0.6436 - acc: 0.7365 - val_loss: 0.6183 - val_acc: 0.7410\n",
      "Epoch 7/10\n",
      "4000/4000 [==============================] - 0s 99us/step - loss: 0.6180 - acc: 0.7507 - val_loss: 0.5976 - val_acc: 0.7390\n",
      "Epoch 8/10\n",
      "4000/4000 [==============================] - 0s 95us/step - loss: 0.6143 - acc: 0.7520 - val_loss: 0.5918 - val_acc: 0.7450\n",
      "Epoch 9/10\n",
      "4000/4000 [==============================] - 0s 102us/step - loss: 0.6068 - acc: 0.7532 - val_loss: 0.5737 - val_acc: 0.7670\n",
      "Epoch 10/10\n",
      "4000/4000 [==============================] - 0s 102us/step - loss: 0.6017 - acc: 0.7520 - val_loss: 0.5736 - val_acc: 0.7610\n"
     ]
    },
    {
     "data": {
      "image/png": "[encoded data removed]",
      "text/plain": [
       "<matplotlib.figure.Figure at 0x1a24e57b38>"
      ]
     },
     "metadata": {},
     "output_type": "display_data"
    }
   ],
   "source": [
    "# Women's Model\n",
    "X_train_w, Y_train_w, X_val_w, Y_val_w, train_id_w = split_train_validation_data(WOMENS, 0.2, 42)\n",
    "model_w = create_model()\n",
    "model_w = train_and_evaluate_model(model_w, X_train_w, Y_train_w, X_val_w, Y_val_w, epochs=10, batch_size=32)"
   ]
  },
  {
   "cell_type": "markdown",
   "metadata": {},
   "source": [
    "## Format Submission\n",
    "---\n",
    "Format submission correctly according to competition rules."
   ]
  },
  {
   "cell_type": "code",
   "execution_count": 34,
   "metadata": {},
   "outputs": [
    {
     "data": {
      "text/html": [
       "<div>\n",
       "<table border=\"1\" class=\"dataframe\">\n",
       "  <thead>\n",
       "    <tr style=\"text-align: right;\">\n",
       "      <th></th>\n",
       "      <th>0</th>\n",
       "    </tr>\n",
       "  </thead>\n",
       "  <tbody>\n",
       "    <tr>\n",
       "      <th>0</th>\n",
       "      <td>2532_mens</td>\n",
       "    </tr>\n",
       "    <tr>\n",
       "      <th>1</th>\n",
       "      <td>7430_mens</td>\n",
       "    </tr>\n",
       "    <tr>\n",
       "      <th>2</th>\n",
       "      <td>6618_mens</td>\n",
       "    </tr>\n",
       "    <tr>\n",
       "      <th>3</th>\n",
       "      <td>2597_mens</td>\n",
       "    </tr>\n",
       "    <tr>\n",
       "      <th>4</th>\n",
       "      <td>5157_mens</td>\n",
       "    </tr>\n",
       "  </tbody>\n",
       "</table>\n",
       "</div>"
      ],
      "text/plain": [
       "           0\n",
       "0  2532_mens\n",
       "1  7430_mens\n",
       "2  6618_mens\n",
       "3  2597_mens\n",
       "4  5157_mens"
      ]
     },
     "execution_count": 34,
     "metadata": {},
     "output_type": "execute_result"
    }
   ],
   "source": [
    "# Correct submission format template\n",
    "def create_result_file():\n",
    "    csv_path = 'tennis_data/AUS_SubmissionFormat.csv'\n",
    "    return pd.read_csv(csv_path)\n",
    "\n",
    "# Add the correct gender for each test id  \n",
    "def append_gender(data, gender):\n",
    "    return str(data) + '_' + str(gender)\n",
    "\n",
    "# Create the id column\n",
    "def create_column_ids(mens_id, womens_id):\n",
    "    mens_test_id_col = mens_id.apply(append_gender, args=('mens',))\n",
    "    womens_test_id_col = womens_id.apply(append_gender, args=('womens',))\n",
    "\n",
    "    combined_id = np.concatenate((mens_test_id_col, womens_test_id_col))\n",
    "    \n",
    "    return pd.DataFrame(combined_id)\n",
    "\n",
    "# Preprocess Test Data\n",
    "def preprocess_test(gender): \n",
    "    data = load_tennis_data(gender, TEST)\n",
    "    data= preprocess(data)\n",
    "    ids = get_id(data)\n",
    "    data = get_feature_cols(data)\n",
    "    data = encode_data(data)\n",
    "    data = scale_data(data)\n",
    "    data = data.loc[:, data.columns != 'outcome']\n",
    "    data = data.values.reshape((-1, 24))\n",
    "    return data, ids\n",
    "\n",
    "test_data_m, test_id_m = preprocess_test(MENS)\n",
    "test_data_w, test_id_w = preprocess_test(WOMENS)\n",
    "column_ids = create_column_ids(test_id_m, test_id_w)\n",
    "column_ids.head()"
   ]
  },
  {
   "cell_type": "code",
   "execution_count": 28,
   "metadata": {},
   "outputs": [
    {
     "data": {
      "text/html": [
       "<div>\n",
       "<table border=\"1\" class=\"dataframe\">\n",
       "  <thead>\n",
       "    <tr style=\"text-align: right;\">\n",
       "      <th></th>\n",
       "      <th>0</th>\n",
       "      <th>1</th>\n",
       "      <th>2</th>\n",
       "    </tr>\n",
       "  </thead>\n",
       "  <tbody>\n",
       "    <tr>\n",
       "      <th>0</th>\n",
       "      <td>0.018856</td>\n",
       "      <td>0.733372</td>\n",
       "      <td>0.247772</td>\n",
       "    </tr>\n",
       "    <tr>\n",
       "      <th>1</th>\n",
       "      <td>0.965714</td>\n",
       "      <td>0.029477</td>\n",
       "      <td>0.004809</td>\n",
       "    </tr>\n",
       "    <tr>\n",
       "      <th>2</th>\n",
       "      <td>0.232052</td>\n",
       "      <td>0.766503</td>\n",
       "      <td>0.001444</td>\n",
       "    </tr>\n",
       "    <tr>\n",
       "      <th>3</th>\n",
       "      <td>0.047025</td>\n",
       "      <td>0.952644</td>\n",
       "      <td>0.000331</td>\n",
       "    </tr>\n",
       "    <tr>\n",
       "      <th>4</th>\n",
       "      <td>0.269822</td>\n",
       "      <td>0.703331</td>\n",
       "      <td>0.026847</td>\n",
       "    </tr>\n",
       "  </tbody>\n",
       "</table>\n",
       "</div>"
      ],
      "text/plain": [
       "          0         1         2\n",
       "0  0.018856  0.733372  0.247772\n",
       "1  0.965714  0.029477  0.004809\n",
       "2  0.232052  0.766503  0.001444\n",
       "3  0.047025  0.952644  0.000331\n",
       "4  0.269822  0.703331  0.026847"
      ]
     },
     "execution_count": 28,
     "metadata": {},
     "output_type": "execute_result"
    }
   ],
   "source": [
    "# MENS PREDICTION\n",
    "m_prediction = prediction(model_m, test_data_m)\n",
    "m_prediction = pd.DataFrame(m_prediction)\n",
    "m_prediction.head()"
   ]
  },
  {
   "cell_type": "code",
   "execution_count": 29,
   "metadata": {},
   "outputs": [
    {
     "data": {
      "text/html": [
       "<div>\n",
       "<table border=\"1\" class=\"dataframe\">\n",
       "  <thead>\n",
       "    <tr style=\"text-align: right;\">\n",
       "      <th></th>\n",
       "      <th>0</th>\n",
       "      <th>1</th>\n",
       "      <th>2</th>\n",
       "    </tr>\n",
       "  </thead>\n",
       "  <tbody>\n",
       "    <tr>\n",
       "      <th>995</th>\n",
       "      <td>0.436800</td>\n",
       "      <td>0.185206</td>\n",
       "      <td>0.377994</td>\n",
       "    </tr>\n",
       "    <tr>\n",
       "      <th>996</th>\n",
       "      <td>0.016616</td>\n",
       "      <td>0.092310</td>\n",
       "      <td>0.891075</td>\n",
       "    </tr>\n",
       "    <tr>\n",
       "      <th>997</th>\n",
       "      <td>0.412371</td>\n",
       "      <td>0.578559</td>\n",
       "      <td>0.009071</td>\n",
       "    </tr>\n",
       "    <tr>\n",
       "      <th>998</th>\n",
       "      <td>0.012106</td>\n",
       "      <td>0.168533</td>\n",
       "      <td>0.819361</td>\n",
       "    </tr>\n",
       "    <tr>\n",
       "      <th>999</th>\n",
       "      <td>0.000242</td>\n",
       "      <td>0.012258</td>\n",
       "      <td>0.987500</td>\n",
       "    </tr>\n",
       "  </tbody>\n",
       "</table>\n",
       "</div>"
      ],
      "text/plain": [
       "            0         1         2\n",
       "995  0.436800  0.185206  0.377994\n",
       "996  0.016616  0.092310  0.891075\n",
       "997  0.412371  0.578559  0.009071\n",
       "998  0.012106  0.168533  0.819361\n",
       "999  0.000242  0.012258  0.987500"
      ]
     },
     "execution_count": 29,
     "metadata": {},
     "output_type": "execute_result"
    }
   ],
   "source": [
    "# WOMENS PREDICTION\n",
    "w_prediction = prediction(model_w, test_data_w)\n",
    "w_prediction = pd.DataFrame(w_prediction)\n",
    "w_prediction.tail()"
   ]
  },
  {
   "cell_type": "code",
   "execution_count": 30,
   "metadata": {},
   "outputs": [
    {
     "data": {
      "text/html": [
       "<div>\n",
       "<table border=\"1\" class=\"dataframe\">\n",
       "  <thead>\n",
       "    <tr style=\"text-align: right;\">\n",
       "      <th></th>\n",
       "      <th>FE</th>\n",
       "      <th>UE</th>\n",
       "      <th>W</th>\n",
       "    </tr>\n",
       "  </thead>\n",
       "  <tbody>\n",
       "    <tr>\n",
       "      <th>0</th>\n",
       "      <td>0.018856</td>\n",
       "      <td>0.733372</td>\n",
       "      <td>0.247772</td>\n",
       "    </tr>\n",
       "    <tr>\n",
       "      <th>1</th>\n",
       "      <td>0.965714</td>\n",
       "      <td>0.029477</td>\n",
       "      <td>0.004809</td>\n",
       "    </tr>\n",
       "    <tr>\n",
       "      <th>2</th>\n",
       "      <td>0.232052</td>\n",
       "      <td>0.766503</td>\n",
       "      <td>0.001444</td>\n",
       "    </tr>\n",
       "    <tr>\n",
       "      <th>3</th>\n",
       "      <td>0.047025</td>\n",
       "      <td>0.952644</td>\n",
       "      <td>0.000331</td>\n",
       "    </tr>\n",
       "    <tr>\n",
       "      <th>4</th>\n",
       "      <td>0.269822</td>\n",
       "      <td>0.703331</td>\n",
       "      <td>0.026847</td>\n",
       "    </tr>\n",
       "  </tbody>\n",
       "</table>\n",
       "</div>"
      ],
      "text/plain": [
       "         FE        UE         W\n",
       "0  0.018856  0.733372  0.247772\n",
       "1  0.965714  0.029477  0.004809\n",
       "2  0.232052  0.766503  0.001444\n",
       "3  0.047025  0.952644  0.000331\n",
       "4  0.269822  0.703331  0.026847"
      ]
     },
     "execution_count": 30,
     "metadata": {},
     "output_type": "execute_result"
    }
   ],
   "source": [
    "# Combine the test predictions\n",
    "combined_test_predictions = pd.concat([m_prediction, w_prediction], axis=0)\n",
    "combined_test_predictions.columns = ['FE', 'UE', 'W']\n",
    "combined_test_predictions.reset_index(inplace=True, drop=True)\n",
    "combined_test_predictions.head()"
   ]
  },
  {
   "cell_type": "code",
   "execution_count": 31,
   "metadata": {},
   "outputs": [],
   "source": [
    "# Format the submission and place prediction in the correct column\n",
    "def format_submission(predictions):\n",
    "    format_file = create_result_file()\n",
    "    final = pd.concat([column_ids, format_file[['train']], predictions], axis=1, )\n",
    "    final.columns = ['submission_id', 'train', 'FE', 'UE', 'W']\n",
    "    final = final.set_index(list(final[['submission_id']])).T\n",
    "    correct_order = list(format_file['submission_id'])\n",
    "    final_sorted = final[correct_order].T.reset_index()\n",
    "    cols = ['submission_id', 'train', 'UE', 'FE', 'W']\n",
    "    final_sorted = final_sorted[cols]\n",
    "    return final_sorted"
   ]
  },
  {
   "cell_type": "code",
   "execution_count": 32,
   "metadata": {},
   "outputs": [
    {
     "data": {
      "text/html": [
       "<div>\n",
       "<table border=\"1\" class=\"dataframe\">\n",
       "  <thead>\n",
       "    <tr style=\"text-align: right;\">\n",
       "      <th></th>\n",
       "      <th>submission_id</th>\n",
       "      <th>train</th>\n",
       "      <th>UE</th>\n",
       "      <th>FE</th>\n",
       "      <th>W</th>\n",
       "    </tr>\n",
       "  </thead>\n",
       "  <tbody>\n",
       "    <tr>\n",
       "      <th>0</th>\n",
       "      <td>4314_mens</td>\n",
       "      <td>0.0</td>\n",
       "      <td>0.988561</td>\n",
       "      <td>0.008374</td>\n",
       "      <td>0.003064</td>\n",
       "    </tr>\n",
       "    <tr>\n",
       "      <th>1</th>\n",
       "      <td>3559_mens</td>\n",
       "      <td>0.0</td>\n",
       "      <td>0.228421</td>\n",
       "      <td>0.768826</td>\n",
       "      <td>0.002753</td>\n",
       "    </tr>\n",
       "    <tr>\n",
       "      <th>2</th>\n",
       "      <td>768_mens</td>\n",
       "      <td>0.0</td>\n",
       "      <td>0.840998</td>\n",
       "      <td>0.150060</td>\n",
       "      <td>0.008942</td>\n",
       "    </tr>\n",
       "    <tr>\n",
       "      <th>3</th>\n",
       "      <td>426_mens</td>\n",
       "      <td>0.0</td>\n",
       "      <td>0.590088</td>\n",
       "      <td>0.385234</td>\n",
       "      <td>0.024678</td>\n",
       "    </tr>\n",
       "    <tr>\n",
       "      <th>4</th>\n",
       "      <td>807_mens</td>\n",
       "      <td>0.0</td>\n",
       "      <td>0.902250</td>\n",
       "      <td>0.097677</td>\n",
       "      <td>0.000073</td>\n",
       "    </tr>\n",
       "  </tbody>\n",
       "</table>\n",
       "</div>"
      ],
      "text/plain": [
       "  submission_id  train        UE        FE         W\n",
       "0     4314_mens    0.0  0.988561  0.008374  0.003064\n",
       "1     3559_mens    0.0  0.228421  0.768826  0.002753\n",
       "2      768_mens    0.0  0.840998  0.150060  0.008942\n",
       "3      426_mens    0.0  0.590088  0.385234  0.024678\n",
       "4      807_mens    0.0  0.902250  0.097677  0.000073"
      ]
     },
     "execution_count": 32,
     "metadata": {},
     "output_type": "execute_result"
    }
   ],
   "source": [
    "final_submission = format_submission(combined_test_predictions)\n",
    "final_submission.head()"
   ]
  },
  {
   "cell_type": "code",
   "execution_count": 23,
   "metadata": {},
   "outputs": [],
   "source": [
    "import time\n",
    "\n",
    "# Save the predictions\n",
    "timestr = time.strftime(\"%Y%m%d-%H%M%S\")\n",
    "def save_file(data):\n",
    "    data.to_csv('Submissions/SubmissionNN' + timestr + '.csv', index=False)\n",
    "save_file(final_submission)"
   ]
  }
 ],
 "metadata": {
  "kernelspec": {
   "display_name": "Python 3",
   "language": "python",
   "name": "python3"
  },
  "language_info": {
   "codemirror_mode": {
    "name": "ipython",
    "version": 3
   },
   "file_extension": ".py",
   "mimetype": "text/x-python",
   "name": "python",
   "nbconvert_exporter": "python",
   "pygments_lexer": "ipython3",
   "version": "3.6.4"
  }
 },
 "nbformat": 4,
 "nbformat_minor": 2
}
