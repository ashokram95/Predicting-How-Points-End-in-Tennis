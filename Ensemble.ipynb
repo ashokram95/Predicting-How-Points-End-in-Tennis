{
 "cells": [
  {
   "cell_type": "code",
   "execution_count": 19,
   "metadata": {},
   "outputs": [],
   "source": [
    "import pandas as pd\n",
    "import numpy as np\n",
    "from sklearn.utils import shuffle\n",
    "from sklearn.model_selection import train_test_split\n",
    "from sklearn.preprocessing import LabelEncoder\n",
    "from sklearn.preprocessing import MinMaxScaler\n",
    "from collections import defaultdict\n",
    "import matplotlib.pyplot as  plt\n",
    "\n",
    "from sklearn.metrics import accuracy_score\n",
    "from sklearn.model_selection import cross_val_score\n",
    "from sklearn.metrics import log_loss\n",
    "from sklearn.model_selection import GridSearchCV\n",
    "\n",
    "SPLIT_SEED = 1\n",
    "MENS = 'mens'\n",
    "WOMENS = 'womens'\n",
    "TEST = 'test'\n",
    "TRAIN = 'train'\n",
    "\n",
    "# Columns in Data With Categorical Values- Must LabelEncode them\n",
    "categorical_cols = ['hitpoint', 'outside.sideline', 'outside.baseline', 'same.side', \n",
    "                    'previous.hitpoint', 'server.is.impact.player', 'outcome']\n",
    "\n",
    "# Columns in the Data That Should Be Scaled\n",
    "scaled_data = ['serve', 'rally', 'speed', 'net.clearance', 'distance.from.sideline', 'depth', 'player.distance.travelled', \n",
    "               'player.impact.depth', 'player.impact.distance.from.center', 'player.depth', \n",
    "               'player.distance.from.center', 'previous.speed', 'previous.net.clearance', \n",
    "               'previous.distance.from.sideline', 'previous.depth', 'opponent.depth', \n",
    "               'opponent.distance.from.center', 'previous.time.to.net']\n",
    "\n",
    "# Load Data and Return pandas df\n",
    "def load_tennis_data(gender, train='train'):\n",
    "    assert gender == 'mens' or gender == 'womens'\n",
    "    assert train == 'train' or train == 'test'\n",
    "    csv_path = 'tennis_data/' + gender + '_' + train + '_file.csv'\n",
    "    return pd.read_csv(csv_path)\n",
    "\n",
    "# Return Shuffled Training Data- Reorder With ID as first column\n",
    "def preprocess(data): \n",
    "    temp = data \n",
    "    temp = shuffle(temp, random_state=SPLIT_SEED)\n",
    "    cols = temp.columns.tolist()\n",
    "    new_cols = cols[-4:-3] + cols[0:-4]  + cols[-3:]\n",
    "    temp = temp[new_cols]\n",
    "    return temp\n",
    "\n",
    "# Return df with non-features dropped- ID, Gender, Train\n",
    "def get_feature_cols(data):\n",
    "    temp = data \n",
    "    temp.drop('id', 1, inplace=True)   \n",
    "    temp.drop('gender', 1, inplace=True)\n",
    "    temp.drop('train', 1, inplace=True)\n",
    "    return temp\n",
    "\n",
    "# Return ID Column\n",
    "def get_id(data):\n",
    "    return data['id']\n",
    "\n",
    "# Encode Categorical Data\n",
    "def encode_data(data):\n",
    "    temp = data\n",
    "    # Retain All LabelEncoder as a dictionary\n",
    "    d = defaultdict(LabelEncoder)\n",
    "\n",
    "    # Encode all the columns\n",
    "    temp[categorical_cols] = temp[categorical_cols].apply(lambda x: d[x.name].fit_transform(x))\n",
    "#     print(d['outcome'].classes_)\n",
    "    # Inverse the encoding\n",
    "    # temp.apply(lambda x: d[x.name].inverse_transform(x))\n",
    "\n",
    "    # Using dictionary d to label future data\n",
    "    # mens_data[categorical_cols].apply(lambda x: d[x.name].transform(x))\n",
    "    return temp\n",
    "\n",
    "# Scale Data\n",
    "def scale_data(data):\n",
    "    temp = data\n",
    "    scaler = MinMaxScaler()\n",
    "    temp[scaled_data] = scaler.fit_transform(temp[scaled_data])\n",
    "    return temp\n",
    "\n",
    "# Return Train X, Train Y, Val X, Val Y, ID Columns\n",
    "def split_train_validation_data(gender, val_size=0.2, random_state=SPLIT_SEED, scaled=False):\n",
    "    train_data = load_tennis_data(gender, TRAIN)\n",
    "    train_data= preprocess(train_data)\n",
    "    train_id = get_id(train_data)\n",
    "    train_data = get_feature_cols(train_data)\n",
    "    train_data = encode_data(train_data)\n",
    "    if scaled:\n",
    "        train_data = scale_data(train_data)\n",
    "    # mens_train_data.head()\n",
    "\n",
    "    # Split into training and validation sets\n",
    "    train_mens, val_mens = train_test_split(train_data, test_size=val_size, random_state=random_state)\n",
    "\n",
    "    # Split data into input and outputs\n",
    "    X_train = train_mens.loc[:, train_mens.columns != 'outcome']\n",
    "    Y_train = train_mens['outcome']\n",
    "    X_val = val_mens.loc[:, val_mens.columns != 'outcome']\n",
    "    Y_val = val_mens['outcome']\n",
    "#     print(pd.DataFrame(X_train))\n",
    "\n",
    "    # Reshape Data To Put Into NN\n",
    "    X_train_np = X_train.values.reshape((-1, 24))\n",
    "    Y_train_np = Y_train.reshape((-1,1))\n",
    "    X_val_np = X_val.values.reshape((-1, 24))\n",
    "    Y_val_np = Y_val.reshape((-1,1))\n",
    "    return X_train_np, Y_train_np, X_val_np, Y_val_np, train_id"
   ]
  },
  {
   "cell_type": "code",
   "execution_count": 10,
   "metadata": {},
   "outputs": [
    {
     "name": "stdout",
     "output_type": "stream",
     "text": [
      "Fitting 10 folds for each of 75 candidates, totalling 750 fits\n"
     ]
    },
    {
     "name": "stderr",
     "output_type": "stream",
     "text": [
      "[Parallel(n_jobs=4)]: Done 128 tasks      | elapsed:    4.5s\n",
      "[Parallel(n_jobs=4)]: Done 372 tasks      | elapsed:   21.2s\n",
      "[Parallel(n_jobs=4)]: Done 622 tasks      | elapsed:   53.0s\n",
      "[Parallel(n_jobs=4)]: Done 750 out of 750 | elapsed:  1.1min finished\n"
     ]
    }
   ],
   "source": [
    "from sklearn.ensemble import RandomForestClassifier\n",
    "from sklearn.tree import DecisionTreeClassifier\n",
    "\n",
    "\n",
    "# {'max_depth': 15, 'min_samples_leaf': 1, 'n_estimators': 63}\n",
    "\n",
    "# split RF data\n",
    "RF_X_train_m, RF_Y_train_m, RF_X_val_m, RF_Y_val_m, train_id_m = split_train_validation_data(MENS, 0.2, random_state=SPLIT_SEED, scaled=False)\n",
    "\n",
    "# Model\n",
    "rfc_model_m = RandomForestClassifier(max_depth=10, n_estimators=14)\n",
    "\n",
    "# Use a grid over parameters of interest\n",
    "param_grid = { \n",
    "           \"n_estimators\" : [9, 18, 27, 36, 45],\n",
    "           \"max_depth\" : [1, 5, 10, 15, 20],\n",
    "           \"min_samples_leaf\" : [1, 2, 4]}\n",
    "\n",
    "CV_rfc = GridSearchCV(estimator=rfc_model_m, param_grid=param_grid, cv= 10, \n",
    "                      verbose=1, scoring='accuracy', n_jobs=4)\n",
    "CV_rfc.fit(RF_X_train_m, RF_Y_train_m.ravel())\n",
    "best_param = CV_rfc.best_params_\n",
    "\n",
    "# RF_model_m = RF_model_m.fit(RF_X_train_m, RF_Y_train_m.ravel())\n",
    "# RF_prediction = RF_model_m.predict_proba(RF_X_val_m)\n",
    "# prediction = RF_model_m.predict(RF_X_val_m)\n",
    "\n",
    "# acc = accuracy_score(RF_Y_val_m, prediction)\n",
    "# loss = log_loss(RF_Y_val_m, RF_prediction)\n",
    "\n",
    "# print(RF_prediction)\n",
    "# print('RF Accuracy: ' + str(acc))\n",
    "# print('RF Loss: ' + str(loss))\n",
    "# # print(pd.DataFrame(RF_X_train_m).head())"
   ]
  },
  {
   "cell_type": "code",
   "execution_count": 11,
   "metadata": {},
   "outputs": [
    {
     "name": "stdout",
     "output_type": "stream",
     "text": [
      "{'max_depth': 10, 'min_samples_leaf': 1, 'n_estimators': 45}\n"
     ]
    }
   ],
   "source": [
    "print(CV_rfc.best_params_)"
   ]
  },
  {
   "cell_type": "code",
   "execution_count": 4,
   "metadata": {},
   "outputs": [
    {
     "name": "stdout",
     "output_type": "stream",
     "text": [
      "[[ 0.04324927  0.92613636  0.03061437]\n",
      " [ 0.76418414  0.23381586  0.002     ]\n",
      " [ 0.69124308  0.25683761  0.05191931]\n",
      " ..., \n",
      " [ 0.00099026  0.05727506  0.94173467]\n",
      " [ 0.04375302  0.9137353   0.04251168]\n",
      " [ 0.38028707  0.32589791  0.29381502]]\n",
      "0.450393923027\n"
     ]
    }
   ],
   "source": [
    "from sklearn.ensemble import RandomForestClassifier\n",
    "from sklearn.tree import DecisionTreeClassifier\n",
    "from sklearn.metrics import accuracy_score\n",
    "from sklearn.model_selection import cross_val_score\n",
    "from sklearn.metrics import log_loss\n",
    "\n",
    "RF_X_train_m, RF_Y_train_m, RF_X_val_m, RF_Y_val_m, train_id_m = split_train_validation_data(MENS, 0.2, random_state=SPLIT_SEED, scaled=False)\n",
    "\n",
    "# rfc_m = RandomForestClassifier(max_depth = best_param['max_depth'], min_samples_leaf = \n",
    "#                                best_param['min_samples_leaf'], n_estimators= 20)\n",
    "rfc_m = RandomForestClassifier(max_depth = 10, min_samples_leaf = \n",
    "                               1, n_estimators= 20)\n",
    "rfc_m = rfc_m.fit(RF_X_train_m, RF_Y_train_m.ravel())\n",
    "rfc_m_prediction = rfc_m.predict_proba(RF_X_val_m)\n",
    "print(rfc_m_prediction)\n",
    "print(log_loss(RF_Y_val_m, rfc_m_prediction))"
   ]
  },
  {
   "cell_type": "code",
   "execution_count": 5,
   "metadata": {},
   "outputs": [
    {
     "name": "stderr",
     "output_type": "stream",
     "text": [
      "Using TensorFlow backend.\n",
      "/anaconda3/lib/python3.6/importlib/_bootstrap.py:219: RuntimeWarning: compiletime version 3.5 of module 'tensorflow.python.framework.fast_tensor_util' does not match runtime version 3.6\n",
      "  return f(*args, **kwds)\n"
     ]
    },
    {
     "name": "stdout",
     "output_type": "stream",
     "text": [
      "Train on 4000 samples, validate on 1000 samples\n",
      "Epoch 1/50\n",
      "4000/4000 [==============================] - 1s 156us/step - loss: 1.0889 - acc: 0.3930 - val_loss: 1.0527 - val_acc: 0.4630\n",
      "Epoch 2/50\n",
      "4000/4000 [==============================] - 0s 67us/step - loss: 1.0373 - acc: 0.4617 - val_loss: 0.9985 - val_acc: 0.4860\n",
      "Epoch 3/50\n",
      "4000/4000 [==============================] - 0s 75us/step - loss: 0.9867 - acc: 0.5012 - val_loss: 0.9183 - val_acc: 0.5530\n",
      "Epoch 4/50\n",
      "4000/4000 [==============================] - 0s 83us/step - loss: 0.9109 - acc: 0.5558 - val_loss: 0.8338 - val_acc: 0.6080\n",
      "Epoch 5/50\n",
      "4000/4000 [==============================] - 0s 74us/step - loss: 0.8510 - acc: 0.6018 - val_loss: 0.7576 - val_acc: 0.6430\n",
      "Epoch 6/50\n",
      "4000/4000 [==============================] - 0s 91us/step - loss: 0.8134 - acc: 0.6183 - val_loss: 0.7239 - val_acc: 0.6620\n",
      "Epoch 7/50\n",
      "4000/4000 [==============================] - 0s 76us/step - loss: 0.7782 - acc: 0.6332 - val_loss: 0.6906 - val_acc: 0.7250\n",
      "Epoch 8/50\n",
      "4000/4000 [==============================] - 0s 74us/step - loss: 0.7501 - acc: 0.6522 - val_loss: 0.6699 - val_acc: 0.7060\n",
      "Epoch 9/50\n",
      "4000/4000 [==============================] - 0s 76us/step - loss: 0.7328 - acc: 0.6585 - val_loss: 0.6567 - val_acc: 0.7520\n",
      "Epoch 10/50\n",
      "4000/4000 [==============================] - 0s 69us/step - loss: 0.7155 - acc: 0.6780 - val_loss: 0.6386 - val_acc: 0.7430\n",
      "Epoch 11/50\n",
      "4000/4000 [==============================] - 0s 73us/step - loss: 0.6988 - acc: 0.6887 - val_loss: 0.6252 - val_acc: 0.7510\n",
      "Epoch 12/50\n",
      "4000/4000 [==============================] - 0s 75us/step - loss: 0.6983 - acc: 0.6805 - val_loss: 0.6163 - val_acc: 0.7630\n",
      "Epoch 13/50\n",
      "4000/4000 [==============================] - 0s 74us/step - loss: 0.6828 - acc: 0.6890 - val_loss: 0.6088 - val_acc: 0.7670\n",
      "Epoch 14/50\n",
      "4000/4000 [==============================] - 0s 75us/step - loss: 0.6694 - acc: 0.7092 - val_loss: 0.5942 - val_acc: 0.7810\n",
      "Epoch 15/50\n",
      "4000/4000 [==============================] - 0s 72us/step - loss: 0.6615 - acc: 0.7083 - val_loss: 0.5934 - val_acc: 0.7820\n",
      "Epoch 16/50\n",
      "4000/4000 [==============================] - 0s 78us/step - loss: 0.6512 - acc: 0.7060 - val_loss: 0.5913 - val_acc: 0.7700\n",
      "Epoch 17/50\n",
      "4000/4000 [==============================] - 0s 79us/step - loss: 0.6551 - acc: 0.7030 - val_loss: 0.5785 - val_acc: 0.7910\n",
      "Epoch 18/50\n",
      "4000/4000 [==============================] - 0s 80us/step - loss: 0.6443 - acc: 0.7200 - val_loss: 0.5740 - val_acc: 0.7810\n",
      "Epoch 19/50\n",
      "4000/4000 [==============================] - 0s 70us/step - loss: 0.6355 - acc: 0.7262 - val_loss: 0.5723 - val_acc: 0.7840\n",
      "Epoch 20/50\n",
      "4000/4000 [==============================] - 0s 68us/step - loss: 0.6360 - acc: 0.7127 - val_loss: 0.5713 - val_acc: 0.7820\n",
      "Epoch 21/50\n",
      "4000/4000 [==============================] - 0s 71us/step - loss: 0.6392 - acc: 0.7265 - val_loss: 0.5639 - val_acc: 0.7860\n",
      "Epoch 22/50\n",
      "4000/4000 [==============================] - 0s 69us/step - loss: 0.6349 - acc: 0.7255 - val_loss: 0.5605 - val_acc: 0.7830\n",
      "Epoch 23/50\n",
      "4000/4000 [==============================] - 0s 70us/step - loss: 0.6252 - acc: 0.7255 - val_loss: 0.5609 - val_acc: 0.7790\n",
      "Epoch 24/50\n",
      "4000/4000 [==============================] - 0s 75us/step - loss: 0.6249 - acc: 0.7320 - val_loss: 0.5518 - val_acc: 0.7810\n",
      "Epoch 25/50\n",
      "4000/4000 [==============================] - 0s 70us/step - loss: 0.6242 - acc: 0.7355 - val_loss: 0.5493 - val_acc: 0.7910\n",
      "Epoch 26/50\n",
      "4000/4000 [==============================] - 0s 76us/step - loss: 0.6200 - acc: 0.7308 - val_loss: 0.5521 - val_acc: 0.7830\n",
      "Epoch 27/50\n",
      "4000/4000 [==============================] - 0s 72us/step - loss: 0.6168 - acc: 0.7330 - val_loss: 0.5475 - val_acc: 0.7870\n",
      "Epoch 28/50\n",
      "4000/4000 [==============================] - 0s 71us/step - loss: 0.6099 - acc: 0.7340 - val_loss: 0.5469 - val_acc: 0.7910\n",
      "Epoch 29/50\n",
      "4000/4000 [==============================] - 0s 71us/step - loss: 0.6038 - acc: 0.7315 - val_loss: 0.5514 - val_acc: 0.7820\n",
      "Epoch 30/50\n",
      "4000/4000 [==============================] - 0s 80us/step - loss: 0.6032 - acc: 0.7375 - val_loss: 0.5491 - val_acc: 0.7900\n",
      "Epoch 31/50\n",
      "4000/4000 [==============================] - 0s 76us/step - loss: 0.6155 - acc: 0.7448 - val_loss: 0.5390 - val_acc: 0.7910\n",
      "Epoch 32/50\n",
      "4000/4000 [==============================] - 0s 67us/step - loss: 0.6015 - acc: 0.7480 - val_loss: 0.5377 - val_acc: 0.7880\n",
      "Epoch 33/50\n",
      "4000/4000 [==============================] - 0s 75us/step - loss: 0.5931 - acc: 0.7540 - val_loss: 0.5324 - val_acc: 0.7890\n",
      "Epoch 34/50\n",
      "4000/4000 [==============================] - 0s 71us/step - loss: 0.5914 - acc: 0.7458 - val_loss: 0.5365 - val_acc: 0.7910\n",
      "Epoch 35/50\n",
      "4000/4000 [==============================] - 0s 76us/step - loss: 0.6001 - acc: 0.7422 - val_loss: 0.5367 - val_acc: 0.7880\n",
      "Epoch 36/50\n",
      "4000/4000 [==============================] - 0s 69us/step - loss: 0.5905 - acc: 0.7555 - val_loss: 0.5277 - val_acc: 0.7900\n",
      "Epoch 37/50\n",
      "4000/4000 [==============================] - 0s 67us/step - loss: 0.5923 - acc: 0.7608 - val_loss: 0.5319 - val_acc: 0.7850\n",
      "Epoch 38/50\n",
      "4000/4000 [==============================] - 0s 66us/step - loss: 0.6016 - acc: 0.7558 - val_loss: 0.5242 - val_acc: 0.7870\n",
      "Epoch 39/50\n",
      "4000/4000 [==============================] - 0s 66us/step - loss: 0.5918 - acc: 0.7660 - val_loss: 0.5227 - val_acc: 0.7890\n",
      "Epoch 40/50\n",
      "4000/4000 [==============================] - 0s 68us/step - loss: 0.5941 - acc: 0.7660 - val_loss: 0.5377 - val_acc: 0.7850\n",
      "Epoch 41/50\n",
      "4000/4000 [==============================] - 0s 66us/step - loss: 0.5939 - acc: 0.7560 - val_loss: 0.5226 - val_acc: 0.7970\n",
      "Epoch 42/50\n",
      "4000/4000 [==============================] - 0s 61us/step - loss: 0.5952 - acc: 0.7672 - val_loss: 0.5208 - val_acc: 0.7910\n",
      "Epoch 43/50\n",
      "4000/4000 [==============================] - 0s 78us/step - loss: 0.5868 - acc: 0.7625 - val_loss: 0.5257 - val_acc: 0.7950\n",
      "Epoch 44/50\n",
      "4000/4000 [==============================] - 0s 66us/step - loss: 0.5814 - acc: 0.7708 - val_loss: 0.5210 - val_acc: 0.7980\n",
      "Epoch 45/50\n",
      "4000/4000 [==============================] - 0s 64us/step - loss: 0.5827 - acc: 0.7660 - val_loss: 0.5142 - val_acc: 0.8020\n",
      "Epoch 46/50\n",
      "4000/4000 [==============================] - 0s 64us/step - loss: 0.5844 - acc: 0.7612 - val_loss: 0.5169 - val_acc: 0.7900\n",
      "Epoch 47/50\n",
      "4000/4000 [==============================] - 0s 64us/step - loss: 0.5760 - acc: 0.7645 - val_loss: 0.5174 - val_acc: 0.7880\n",
      "Epoch 48/50\n",
      "4000/4000 [==============================] - 0s 66us/step - loss: 0.5713 - acc: 0.7728 - val_loss: 0.5194 - val_acc: 0.7970\n",
      "Epoch 49/50\n",
      "4000/4000 [==============================] - 0s 66us/step - loss: 0.5741 - acc: 0.7702 - val_loss: 0.5092 - val_acc: 0.8070\n",
      "Epoch 50/50\n",
      "4000/4000 [==============================] - 0s 65us/step - loss: 0.5694 - acc: 0.7728 - val_loss: 0.5118 - val_acc: 0.7960\n"
     ]
    },
    {
     "data": {
      "image/png": "[encoded data removed]",
      "text/plain": [
       "<matplotlib.figure.Figure at 0x1a1c211240>"
      ]
     },
     "metadata": {},
     "output_type": "display_data"
    },
    {
     "name": "stdout",
     "output_type": "stream",
     "text": [
      "[[  7.69775435e-02   9.21774089e-01   1.24844594e-03]\n",
      " [  7.08947837e-01   2.67228603e-01   2.38236170e-02]\n",
      " [  7.59854138e-01   2.37499207e-01   2.64672516e-03]\n",
      " ..., \n",
      " [  5.03065849e-06   1.64913642e-03   9.98345852e-01]\n",
      " [  1.62531242e-01   8.36500168e-01   9.68546432e-04]\n",
      " [  2.36402094e-01   7.62766957e-01   8.30998993e-04]]\n"
     ]
    }
   ],
   "source": [
    "from keras.models import Sequential\n",
    "from keras.layers import Input, Dense, Dropout\n",
    "from keras.optimizers import Adam\n",
    "\n",
    "# Split Data\n",
    "ANN_X_train_m, ANN_Y_train_m, ANN_X_val_m, ANN_Y_val_m, train_id_m = split_train_validation_data(MENS, 0.2, random_state=SPLIT_SEED, scaled=True)\n",
    "\n",
    "# Create ANN Model\n",
    "def create_ANN_model():\n",
    "    model = Sequential()\n",
    "    model.add(Dense(15, input_dim=24, activation='relu', kernel_initializer='lecun_uniform'))\n",
    "    model.add(Dropout(0.4))\n",
    "    model.add(Dense(15, input_dim=24, activation='relu', kernel_initializer='lecun_uniform'))\n",
    "    model.add(Dropout(0.4))\n",
    "    adam = Adam(lr=0.001, beta_1=0.9, beta_2=0.999, epsilon=1e-08, decay=0.0)\n",
    "    model.add(Dense(3, activation='softmax', kernel_initializer='lecun_uniform'))\n",
    "    model.compile(loss='sparse_categorical_crossentropy', optimizer=adam, metrics=['accuracy'])\n",
    "    return model\n",
    "\n",
    "# Build and Train Model\n",
    "def train_and_evaluate_ANN_model(model, x_train, y_train, xval, yval, epochs, batch_size):\n",
    "    history = model.fit(x_train, y_train, epochs=epochs, batch_size=batch_size, \n",
    "                         validation_data=(xval, yval))\n",
    "    plt.plot(history.history['loss'])\n",
    "    plt.plot(history.history['val_loss'])  \n",
    "    plt.title('model loss')\n",
    "    plt.ylabel('loss')\n",
    "    plt.xlabel('epoch')\n",
    "    plt.legend(['train', 'val'], loc='upper left')\n",
    "    plt.show()\n",
    "    return model\n",
    "\n",
    "ANN_model_m = create_ANN_model()\n",
    "ANN_model_m = train_and_evaluate_ANN_model(ANN_model_m, ANN_X_train_m, ANN_Y_train_m, ANN_X_val_m, \n",
    "                                           ANN_Y_val_m, epochs=50, batch_size=32)\n",
    "\n",
    "# PREDICTION\n",
    "ANN_m_prediction = ANN_model_m.predict(ANN_X_val_m)\n",
    "print(ANN_m_prediction)"
   ]
  },
  {
   "cell_type": "code",
   "execution_count": 8,
   "metadata": {},
   "outputs": [
    {
     "name": "stdout",
     "output_type": "stream",
     "text": [
      "[[  5.76994165e-02   9.23952649e-01   6.18226399e-03]\n",
      " [  7.36048025e-01   2.49964568e-01   6.90269759e-03]\n",
      " [  7.24737135e-01   2.46979206e-01   1.17224636e-02]\n",
      " ..., \n",
      " [  7.05809413e-05   9.71876500e-03   9.69627200e-01]\n",
      " [  8.43281271e-02   8.74265253e-01   6.41673857e-03]\n",
      " [  2.99834386e-01   4.98582149e-01   1.56256196e-02]]\n",
      "Ensemble Accuracy: 0.832\n",
      "Ensemble Loss: 0.432407410784\n"
     ]
    }
   ],
   "source": [
    "import scipy\n",
    "# Ensemble Prediction and Loss\n",
    "def multiclass_prediction(data):\n",
    "    prediction = []\n",
    "    for x in data:\n",
    "        prediction.append(np.argmax(x))\n",
    "    return prediction\n",
    "\n",
    "ensemble_prediction = scipy.stats.mstats.gmean([ANN_m_prediction, rfc_m_prediction], axis=0)\n",
    "ensemble_loss = log_loss(RF_Y_val_m, ensemble_prediction)\n",
    "class_prediction = multiclass_prediction(ensemble_prediction)\n",
    "print(ensemble_prediction)\n",
    "# print(RF_Y_val_m)\n",
    "print('Ensemble Accuracy: ' + str(accuracy_score(RF_Y_val_m, class_prediction)))\n",
    "print('Ensemble Loss: ' + str(ensemble_loss))"
   ]
  },
  {
   "cell_type": "code",
   "execution_count": 22,
   "metadata": {
    "scrolled": true
   },
   "outputs": [
    {
     "name": "stdout",
     "output_type": "stream",
     "text": [
      "Fitting 10 folds for each of 64 candidates, totalling 640 fits\n"
     ]
    },
    {
     "name": "stderr",
     "output_type": "stream",
     "text": [
      "[Parallel(n_jobs=4)]: Done  42 tasks      | elapsed:   50.4s\n",
      "[Parallel(n_jobs=4)]: Done 192 tasks      | elapsed:  4.5min\n",
      "[Parallel(n_jobs=4)]: Done 442 tasks      | elapsed: 11.0min\n",
      "[Parallel(n_jobs=4)]: Done 640 out of 640 | elapsed: 36.6min finished\n"
     ]
    },
    {
     "name": "stdout",
     "output_type": "stream",
     "text": [
      "{'C': 10, 'gamma': 0.1, 'kernel': 'rbf'}\n"
     ]
    }
   ],
   "source": [
    "from sklearn.svm import SVC\n",
    "\n",
    "\n",
    "SVC_X_train_m, SVC_Y_train_m, SVC_X_val_m, SVC_Y_val_m, train_id_m = split_train_validation_data(MENS, 0.2, random_state=SPLIT_SEED, scaled=True)\n",
    "svc = SVC(probability=True)\n",
    "\n",
    "param_grid = { \n",
    "           \"kernel\" : ['linear', 'poly', 'rbf', 'sigmoid'],\n",
    "           \"gamma\" : [1e-1, 1e-2, 1e-3, 1e-4],\n",
    "           \"C\" : [1, 10, 100, 1000]}\n",
    "\n",
    "CV_svc = GridSearchCV(estimator=svc, param_grid=param_grid, cv=10, n_jobs=4, verbose=1)\n",
    "CV_svc.fit(SVC_X_train_m, SVC_Y_train_m.ravel())\n",
    "print(CV_svc.best_params_)"
   ]
  },
  {
   "cell_type": "code",
   "execution_count": 26,
   "metadata": {},
   "outputs": [
    {
     "name": "stdout",
     "output_type": "stream",
     "text": [
      "SVC Accuracy: 0.832\n",
      "[[  3.30302586e-02   9.55858584e-01   1.11111579e-02]\n",
      " [  7.66591098e-01   2.18278136e-01   1.51307658e-02]\n",
      " [  7.43118646e-01   2.54385605e-01   2.49574893e-03]\n",
      " ..., \n",
      " [  4.95836019e-04   7.10855573e-03   9.92395608e-01]\n",
      " [  1.46130116e-01   8.51092548e-01   2.77733560e-03]\n",
      " [  4.56544841e-01   5.21958005e-01   2.14971540e-02]]\n",
      "0.515838620809\n"
     ]
    }
   ],
   "source": [
    "# {'C': 10, 'gamma': 0.1, 'kernel': 'rbf'}\n",
    "svc = SVC(C=10, gamma=0.1, kernel='rbf', probability=True)\n",
    "svc.fit(SVM_X_train_m, SVM_Y_train_m.ravel())\n",
    "svm_prediction = svm.predict_proba(SVM_X_val_m)\n",
    "svm_loss = log_loss(RF_Y_val_m, svm_prediction)\n",
    "svm_class_prediction = multiclass_prediction(ensemble_prediction)\n",
    "print('SVC Accuracy: ' + str(accuracy_score(RF_Y_val_m, svm_class_prediction)))\n",
    "\n",
    "print(svm_prediction)\n",
    "print(svm_loss)\n",
    "# SVM"
   ]
  },
  {
   "cell_type": "code",
   "execution_count": 99,
   "metadata": {},
   "outputs": [
    {
     "ename": "NameError",
     "evalue": "name 'create_model' is not defined",
     "output_type": "error",
     "traceback": [
      "\u001b[0;31m---------------------------------------------------------------------------\u001b[0m",
      "\u001b[0;31mNameError\u001b[0m                                 Traceback (most recent call last)",
      "\u001b[0;32m<ipython-input-99-d231846ef445>\u001b[0m in \u001b[0;36m<module>\u001b[0;34m()\u001b[0m\n\u001b[1;32m      1\u001b[0m \u001b[0;31m# Women's Model\u001b[0m\u001b[0;34m\u001b[0m\u001b[0;34m\u001b[0m\u001b[0m\n\u001b[1;32m      2\u001b[0m \u001b[0mX_train_w\u001b[0m\u001b[0;34m,\u001b[0m \u001b[0mY_train_w\u001b[0m\u001b[0;34m,\u001b[0m \u001b[0mX_val_w\u001b[0m\u001b[0;34m,\u001b[0m \u001b[0mY_val_w\u001b[0m\u001b[0;34m,\u001b[0m \u001b[0mtrain_id_w\u001b[0m \u001b[0;34m=\u001b[0m \u001b[0msplit_train_validation_data\u001b[0m\u001b[0;34m(\u001b[0m\u001b[0mMENS\u001b[0m\u001b[0;34m,\u001b[0m \u001b[0;36m0.2\u001b[0m\u001b[0;34m,\u001b[0m \u001b[0mSEED\u001b[0m\u001b[0;34m)\u001b[0m\u001b[0;34m\u001b[0m\u001b[0m\n\u001b[0;32m----> 3\u001b[0;31m \u001b[0mmodel_w\u001b[0m \u001b[0;34m=\u001b[0m \u001b[0mcreate_model\u001b[0m\u001b[0;34m(\u001b[0m\u001b[0;34m)\u001b[0m\u001b[0;34m\u001b[0m\u001b[0m\n\u001b[0m\u001b[1;32m      4\u001b[0m \u001b[0mmodel_w\u001b[0m \u001b[0;34m=\u001b[0m \u001b[0mtrain_and_evaluate_model\u001b[0m\u001b[0;34m(\u001b[0m\u001b[0mmodel_w\u001b[0m\u001b[0;34m,\u001b[0m \u001b[0mX_train_w\u001b[0m\u001b[0;34m,\u001b[0m \u001b[0mY_train_w\u001b[0m\u001b[0;34m,\u001b[0m \u001b[0mX_val_w\u001b[0m\u001b[0;34m,\u001b[0m \u001b[0mY_val_w\u001b[0m\u001b[0;34m,\u001b[0m \u001b[0mepochs\u001b[0m\u001b[0;34m=\u001b[0m\u001b[0;36m100\u001b[0m\u001b[0;34m,\u001b[0m \u001b[0mbatch_size\u001b[0m\u001b[0;34m=\u001b[0m\u001b[0;36m32\u001b[0m\u001b[0;34m)\u001b[0m\u001b[0;34m\u001b[0m\u001b[0m\n",
      "\u001b[0;31mNameError\u001b[0m: name 'create_model' is not defined"
     ]
    }
   ],
   "source": [
    "# Women's Model\n",
    "X_train_w, Y_train_w, X_val_w, Y_val_w, train_id_w = split_train_validation_data(MENS, 0.2, SPLIT_SEED)\n",
    "model_w = create_model()\n",
    "model_w = train_and_evaluate_model(model_w, X_train_w, Y_train_w, X_val_w, Y_val_w, epochs=100, batch_size=32)"
   ]
  },
  {
   "cell_type": "code",
   "execution_count": null,
   "metadata": {},
   "outputs": [],
   "source": [
    "def create_result_file():\n",
    "    csv_path = 'tennis_data/AUS_SubmissionFormat.csv'\n",
    "    return pd.read_csv(csv_path)\n",
    "\n",
    "    \n",
    "def append_gender(data, gender):\n",
    "    return str(data) + '_' + str(gender)\n",
    "\n",
    "def create_column_ids(mens_id, womens_id):\n",
    "    mens_test_id_col = mens_id.apply(append_gender, args=('mens',))\n",
    "    womens_test_id_col = womens_id.apply(append_gender, args=('womens',))\n",
    "\n",
    "    combined_id = np.concatenate((mens_test_id_col, womens_test_id_col))\n",
    "    \n",
    "    return pd.DataFrame(combined_id)\n",
    "\n",
    "def preprocess_test(gender): \n",
    "    data = load_tennis_data(gender, TEST)\n",
    "    data= preprocess(data)\n",
    "    # print(mens_test_data.head())\n",
    "    ids = get_id(data)\n",
    "    # print(mens_test_id.head())\n",
    "    data = get_feature_cols(data)\n",
    "    data = encode_data(data)\n",
    "    data = scale_data(data)\n",
    "    data = data.loc[:, data.columns != 'outcome']\n",
    "    data = data.values.reshape((-1, 24))\n",
    "    return data, ids\n",
    "\n",
    "# Preprocess Men's Test Data\n",
    "test_data_m, test_id_m = preprocess_test(MENS)\n",
    "# Preprocess Women's Test Data\n",
    "test_data_w, test_id_w = preprocess_test(WOMENS)\n",
    "# Create IDs\n",
    "column_ids = create_column_ids(test_id_m, test_id_w)"
   ]
  },
  {
   "cell_type": "code",
   "execution_count": null,
   "metadata": {},
   "outputs": [],
   "source": [
    "# PREDICTION\n",
    "m_prediction = prediction(model_m, test_data_m)\n",
    "m_prediction = pd.DataFrame(m_prediction)\n",
    "m_prediction.head()"
   ]
  },
  {
   "cell_type": "code",
   "execution_count": null,
   "metadata": {},
   "outputs": [],
   "source": [
    "w_prediction = prediction(model_w, test_data_w)\n",
    "w_prediction = pd.DataFrame(w_prediction)\n",
    "w_prediction.tail()"
   ]
  },
  {
   "cell_type": "code",
   "execution_count": null,
   "metadata": {},
   "outputs": [],
   "source": [
    "combined_test_predictions = pd.concat([m_prediction, w_prediction], axis=0)\n",
    "combined_test_predictions.columns = ['FE', 'UE', 'W']\n",
    "combined_test_predictions.reset_index(inplace=True, drop=True)\n",
    "combined_test_predictions.head()"
   ]
  },
  {
   "cell_type": "code",
   "execution_count": null,
   "metadata": {},
   "outputs": [],
   "source": [
    "def format_submission(predictions):\n",
    "    format_file = create_result_file()\n",
    "#     format_file['submission_id']\n",
    "    # result = create_column_ids(mens_test_id, womens_test_id, result)\n",
    "    final = pd.concat([column_ids, format_file[['train']], predictions], axis=1, )\n",
    "    final.columns = ['submission_id', 'train', 'FE', 'UE', 'W']\n",
    "    final = final.set_index(list(final[['submission_id']])).T\n",
    "    correct_order = list(format_file['submission_id'])\n",
    "    final_sorted = final[correct_order].T.reset_index()\n",
    "\n",
    "    # # final[['4314_mens']]\n",
    "    # # list(result['submission_id'])\n",
    "\n",
    "    # # final[list(column_ids)]\n",
    "    # # list(result['submission_id'])\n",
    "    # # pd.DataFrame(data=final.values, index= list(result['submission_id']))\n",
    "    # # final.rein dex(list(result['submission_id']))\n",
    "    # # # # # final = result[['submission_id', 'train']].append(combined_test_predictions)\n",
    "    # final_sorted\n",
    "\n",
    "    cols = ['submission_id', 'train', 'UE', 'FE', 'W']\n",
    "    final_sorted = final_sorted[cols]\n",
    "    return final_sorted"
   ]
  },
  {
   "cell_type": "code",
   "execution_count": null,
   "metadata": {},
   "outputs": [],
   "source": [
    "final_submission = format_submission(combined_test_predictions)\n",
    "final_submission.head()"
   ]
  },
  {
   "cell_type": "code",
   "execution_count": null,
   "metadata": {},
   "outputs": [],
   "source": [
    "import time\n",
    "timestr = time.strftime(\"%Y%m%d-%H%M%S\")\n",
    "def save_file(data):\n",
    "    data.to_csv('Submissions/SubmissionNN' + timestr + '.csv', index=False)\n",
    "save_file(final_submission)"
   ]
  }
 ],
 "metadata": {
  "kernelspec": {
   "display_name": "Python 3",
   "language": "python",
   "name": "python3"
  },
  "language_info": {
   "codemirror_mode": {
    "name": "ipython",
    "version": 3
   },
   "file_extension": ".py",
   "mimetype": "text/x-python",
   "name": "python",
   "nbconvert_exporter": "python",
   "pygments_lexer": "ipython3",
   "version": "3.6.4"
  }
 },
 "nbformat": 4,
 "nbformat_minor": 2
}
